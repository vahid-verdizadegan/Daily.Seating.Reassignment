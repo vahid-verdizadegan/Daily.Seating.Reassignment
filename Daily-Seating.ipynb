{
 "cells": [
  {
   "cell_type": "code",
   "execution_count": 1,
   "metadata": {},
   "outputs": [
    {
     "name": "stdout",
     "output_type": "stream",
     "text": [
      "🗂️ Table 1 (4 Members): [np.str_('Majid'), np.str_('Nicolaas'), np.str_('Dhrisya'), np.str_('Izabela')]\n",
      "⭐ Leader: Nicolaas\n",
      "====================================\n",
      "🗂️ Table 2 (4 Members): [np.str_('Rik'), np.str_('Urson'), np.str_('Veena'), np.str_('Zelimkhan')]\n",
      "⭐ Leader: Zelimkhan\n",
      "====================================\n",
      "🗂️ Table 3 (4 Members): [np.str_('Yusra'), np.str_('Yeliz'), np.str_('Kelli'), np.str_('Muntadher')]\n",
      "⭐ Leader: Muntadher\n",
      "====================================\n",
      "🗂️ Table 4 (4 Members): [np.str_('Wouter'), np.str_('Tom'), np.str_('Rasmita'), np.str_('Basma')]\n",
      "⭐ Leader: Wouter\n",
      "====================================\n",
      "🗂️ Table 5 (4 Members): [np.str_('Ihor'), np.str_('Kevin'), np.str_('Minh Duc'), np.str_('Petra')]\n",
      "⭐ Leader: Ihor\n",
      "====================================\n",
      "🗂️ Table 6 (4 Members): [np.str_('Soha'), np.str_('Maarten'), np.str_('Levin'), np.str_('Anastasiia')]\n",
      "⭐ Leader: Maarten\n",
      "====================================\n"
     ]
    }
   ],
   "source": [
    "import numpy as np\n",
    "import pandas as pd\n",
    "import random\n",
    "\n",
    "# خواندن فایل اکسل و تبدیل ستون نام به لیست\n",
    "df = pd.read_excel(\"output-list.xlsx\", engine=\"openpyxl\") \n",
    "cursisten = df[\"Name\"].tolist()  \n",
    "\n",
    "# هم زدن لیست دانش‌آموزان\n",
    "random.shuffle(cursisten) \n",
    "\n",
    "# تقسیم لیست به 6 گروه (در صورت نیاز تعداد را تغییر دهید)\n",
    "lists = np.array_split(cursisten, 6)  \n",
    "\n",
    "# نمایش گروه‌ها و انتخاب لیدر\n",
    "leaders = []  # لیست برای ذخیره لیدرهای انتخاب‌شده\n",
    "\n",
    "for i, lst in enumerate(lists, 1):  \n",
    "    leader = random.choice(lst)  # انتخاب لیدر تصادفی\n",
    "    leaders.append(leader)       # ذخیره لیدر\n",
    "\n",
    "    print(f\"🗂️ Table {i} ({len(lst)} Members): {list(lst)}\")\n",
    "    print(f\"⭐ Leader: {leader}\")\n",
    "    print(\"====================================\")"
   ]
  }
 ],
 "metadata": {
  "kernelspec": {
   "display_name": "usr",
   "language": "python",
   "name": "python3"
  },
  "language_info": {
   "codemirror_mode": {
    "name": "ipython",
    "version": 3
   },
   "file_extension": ".py",
   "mimetype": "text/x-python",
   "name": "python",
   "nbconvert_exporter": "python",
   "pygments_lexer": "ipython3",
   "version": "3.12.3"
  }
 },
 "nbformat": 4,
 "nbformat_minor": 2
}
